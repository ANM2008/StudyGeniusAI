{
 "cells": [
  {
   "cell_type": "markdown",
   "id": "2e4091a0",
   "metadata": {},
   "source": [
    "# Introduction to Cells\n",
    "\n",
    "This notebook explores the fundamental concepts of cells, their types, and their importance in living organisms."
   ]
  },
  {
   "cell_type": "markdown",
   "id": "b1c55825",
   "metadata": {},
   "source": [
    "## What is a Cell?\n",
    "\n",
    "A cell is the basic structural and functional unit of all known living organisms. This fundamental concept is supported by the cell theory, which states that:\n",
    "\n",
    "- All living organisms are composed of one or more cells\n",
    "- Cells are the fundamental unit of structure and organization in living organisms\n",
    "- Cells arise from pre-existing cells through cell division\n",
    "- Cells are responsible for carrying out all life processes\n",
    "\n",
    "Cells contain various molecules that work together to carry out essential functions necessary for life, including:\n",
    "- Energy production\n",
    "- Protein synthesis\n",
    "- Waste management\n",
    "- Growth and reproduction"
   ]
  },
  {
   "cell_type": "markdown",
   "id": "a7e7f3a5",
   "metadata": {},
   "source": [
    "## Types of Cells\n",
    "\n",
    "There are two main types of cells:\n",
    "1. Prokaryotic cells\n",
    "2. Eukaryotic cells\n",
    "\n",
    "These cell types differ primarily in their internal organization and complexity."
   ]
  },
  {
   "cell_type": "markdown",
   "id": "9ea04703",
   "metadata": {},
   "source": [
    "## Prokaryotic Cells\n",
    "\n",
    "Prokaryotic cells are simpler in structure and typically smaller than eukaryotic cells. Key characteristics include:\n",
    "\n",
    "- Lack of a membrane-bound nucleus\n",
    "- No membrane-bound organelles\n",
    "- Circular DNA floating in the cytoplasm\n",
    "- Simple internal organization\n",
    "\n",
    "Examples of prokaryotic organisms:\n",
    "1. Bacteria - The largest and most diverse group of prokaryotes\n",
    "2. Archaea - Often found in extreme environments"
   ]
  },
  {
   "cell_type": "code",
   "execution_count": null,
   "id": "46b93184",
   "metadata": {},
   "outputs": [],
   "source": [
    "import matplotlib.pyplot as plt\n",
    "import numpy as np\n",
    "\n",
    "# Create a simple pie chart showing the relative sizes of prokaryotic organisms\n",
    "prokaryotes = ['Bacteria', 'Archaea']\n",
    "sizes = [90, 10]\n",
    "colors = ['lightblue', 'lightgreen']\n",
    "\n",
    "plt.figure(figsize=(8, 8))\n",
    "plt.pie(sizes, labels=prokaryotes, colors=colors, autopct='%1.1f%%')\n",
    "plt.title('Distribution of Known Prokaryotic Species')\n",
    "plt.axis('equal')\n",
    "plt.show()"
   ]
  },
  {
   "cell_type": "markdown",
   "id": "4e19c3e0",
   "metadata": {},
   "source": [
    "## Eukaryotic Cells\n",
    "\n",
    "Eukaryotic cells are more complex and generally larger than prokaryotic cells. Their main features include:\n",
    "\n",
    "- Membrane-bound nucleus containing DNA\n",
    "- Multiple membrane-bound organelles\n",
    "- Complex internal organization\n",
    "- Specialized functions within the cell\n",
    "\n",
    "Main groups of eukaryotic organisms:\n",
    "1. Animals\n",
    "2. Plants\n",
    "3. Fungi\n",
    "4. Protists\n",
    "\n",
    "Each group has evolved specific cellular adaptations to suit their lifestyle and environment."
   ]
  },
  {
   "cell_type": "code",
   "execution_count": null,
   "id": "80bb8ca2",
   "metadata": {},
   "outputs": [],
   "source": [
    "# Create a bar chart comparing typical cell sizes\n",
    "cell_types = ['Bacteria', 'Animal Cell', 'Plant Cell']\n",
    "sizes_micrometers = [1, 10, 100]\n",
    "\n",
    "plt.figure(figsize=(10, 6))\n",
    "plt.bar(cell_types, sizes_micrometers, color=['lightblue', 'lightgreen', 'lightpink'])\n",
    "plt.ylabel('Typical Size (micrometers)')\n",
    "plt.title('Comparison of Cell Sizes')\n",
    "plt.yscale('log')\n",
    "plt.show()"
   ]
  }
 ],
 "metadata": {
  "language_info": {
   "name": "python"
  }
 },
 "nbformat": 4,
 "nbformat_minor": 5
}
