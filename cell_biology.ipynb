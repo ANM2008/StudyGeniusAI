{
 "cells": [
  {
   "cell_type": "markdown",
   "id": "2f53ef00",
   "metadata": {},
   "source": [
    "# Introduction to Cells\n",
    "This notebook covers the fundamental concepts of cells and their classification in living organisms."
   ]
  },
  {
   "cell_type": "markdown",
   "id": "a06febfd",
   "metadata": {},
   "source": [
    "## Basic Concepts\n",
    "\n",
    "Cells are the basic structural and functional units of all living organisms. Let's explore their key components:"
   ]
  },
  {
   "cell_type": "code",
   "execution_count": null,
   "id": "8007a5a1",
   "metadata": {},
   "outputs": [],
   "source": [
    "cell_components = {\n",
    "    'Cell Membrane': 'Controls what enters and exits the cell',\n",
    "    'Nucleus': 'Contains genetic material (DNA)',\n",
    "    'Cytoplasm': 'Gel-like substance where cell organelles are suspended',\n",
    "    'Mitochondria': 'Powerhouse of the cell - produces energy',\n",
    "    'Endoplasmic Reticulum': 'Transport system within the cell'\n",
    "}\n",
    "\n",
    "for component, function in cell_components.items():\n",
    "    print(f\"{component}: {function}\")"
   ]
  },
  {
   "cell_type": "markdown",
   "id": "d9001a1f",
   "metadata": {},
   "source": [
    "## What is a Cell?\n",
    "\n",
    "A cell is the basic structural and functional unit of all known living organisms. This fundamental concept is essential to understanding biology and life itself.\n",
    "\n",
    "Key points:\n",
    "- Cells are the smallest functional units of life\n",
    "- They are responsible for all life processes\n",
    "- The cell theory states that all living organisms are composed of one or more cells\n",
    "- Each cell can maintain homeostasis, process energy, respond to stimuli, and reproduce\n",
    "\n",
    "This universal building block of life was first discovered by Robert Hooke in 1665 and has been extensively studied since then."
   ]
  },
  {
   "cell_type": "code",
   "execution_count": null,
   "id": "20f47375",
   "metadata": {},
   "outputs": [],
   "source": [
    "%pip install matplotlib\n",
    "# Import libraries for visualization\n",
    "import matplotlib.pyplot as plt\n",
    "import numpy as np\n",
    "\n",
    "# Create a simple visualization showing cell scale\n",
    "scales = ['Organism', 'Tissue', 'Cell', 'Organelle', 'Molecule']\n",
    "sizes = [1000, 100, 10, 1, 0.1]  # Example sizes in micrometers\n",
    "\n",
    "plt.figure(figsize=(10, 6))\n",
    "plt.barh(scales, sizes)\n",
    "plt.xscale('log')\n",
    "plt.xlabel('Size (micrometers)')\n",
    "plt.title('Biological Organization Scale')\n",
    "plt.grid(True)\n",
    "plt.show()"
   ]
  },
  {
   "cell_type": "markdown",
   "id": "c5166b90",
   "metadata": {},
   "source": [
    "## Types of Cells\n",
    "\n",
    "There are two main types of cells:\n",
    "1. Prokaryotic cells (bacteria)\n",
    "2. Eukaryotic cells (plants, animals, fungi)"
   ]
  },
  {
   "cell_type": "markdown",
   "id": "cf057b76",
   "metadata": {},
   "source": [
    "## Types of Cells\n",
    "\n",
    "There are two main categories of cells:\n",
    "\n",
    "### 1. Prokaryotic Cells\n",
    "- Lack a membrane-bound nucleus\n",
    "- No membrane-bound organelles\n",
    "- Simpler internal structure\n",
    "- Examples include:\n",
    "  * Bacteria\n",
    "  * Archaea\n",
    "\n",
    "### 2. Eukaryotic Cells\n",
    "- Contain a membrane-bound nucleus\n",
    "- Have multiple membrane-bound organelles\n",
    "- More complex internal organization\n",
    "- Examples include:\n",
    "  * Animal cells\n",
    "  * Plant cells\n",
    "  * Fungal cells\n",
    "  * Protist cells"
   ]
  },
  {
   "cell_type": "code",
   "execution_count": null,
   "id": "047f5b93",
   "metadata": {},
   "outputs": [],
   "source": [
    "import pandas as pd\n",
    "\n",
    "comparison_data = {\n",
    "    'Feature': ['Nucleus', 'Size', 'DNA Structure', 'Cell Division'],\n",
    "    'Prokaryotic': ['No true nucleus', '0.1-5 µm', 'Circular', 'Binary fission'],\n",
    "    'Eukaryotic': ['True nucleus', '10-100 µm', 'Linear chromosomes', 'Mitosis/Meiosis']\n",
    "}\n",
    "\n",
    "df = pd.DataFrame(comparison_data)\n",
    "df"
   ]
  },
  {
   "cell_type": "code",
   "execution_count": null,
   "id": "16adac75",
   "metadata": {},
   "outputs": [],
   "source": [
    "# Create a comparison table of cell types\n",
    "import pandas as pd\n",
    "\n",
    "# Create comparison data\n",
    "data = {\n",
    "    'Feature': ['Nucleus', 'Organelles', 'Size', 'DNA Structure', 'Examples'],\n",
    "    'Prokaryotic': ['No true nucleus', 'Few, not membrane-bound', '0.1-5 μm', 'Circular', 'Bacteria, Archaea'],\n",
    "    'Eukaryotic': ['True nucleus', 'Many, membrane-bound', '10-100 μm', 'Linear', 'Animals, Plants, Fungi, Protists']\n",
    "}\n",
    "\n",
    "# Create and display the comparison table\n",
    "comparison_df = pd.DataFrame(data)\n",
    "comparison_df.set_index('Feature', inplace=True)\n",
    "comparison_df"
   ]
  },
  {
   "cell_type": "markdown",
   "id": "c6b5f014",
   "metadata": {},
   "source": [
    "## Practice Questions\n",
    "\n",
    "Try answering these questions to test your understanding:"
   ]
  },
  {
   "cell_type": "code",
   "execution_count": null,
   "id": "b4e249f7",
   "metadata": {},
   "outputs": [],
   "source": [
    "def check_answer(question_num, answer):\n",
    "    answers = {\n",
    "        1: 'mitochondria',\n",
    "        2: 'prokaryotic',\n",
    "        3: 'nucleus'\n",
    "    }\n",
    "    if answer.lower() == answers[question_num]:\n",
    "        print('Correct! ✅')\n",
    "    else:\n",
    "        print('Try again! ❌')\n",
    "\n",
    "# Example usage:\n",
    "print('Q1: Which organelle is known as the powerhouse of the cell?')\n",
    "# To answer, run: check_answer(1, 'your_answer')"
   ]
  },
  {
   "cell_type": "markdown",
   "id": "6515411e",
   "metadata": {},
   "source": [
    "# Introduction to Cells\n",
    "Understanding the fundamental building blocks of life"
   ]
  },
  {
   "cell_type": "markdown",
   "id": "0475884a",
   "metadata": {},
   "source": [
    "## What is a Cell?\n",
    "\n",
    "The cell is the basic structural and functional unit of all known living organisms. This fundamental concept is essential in biology and forms the basis of our understanding of life itself.\n",
    "\n",
    "Key points about cells:\n",
    "- Cells are the smallest functional units of life\n",
    "- All living organisms are composed of one or more cells (Cell Theory)\n",
    "- Cells carry out all life processes including:\n",
    "  - Growth and development\n",
    "  - Energy production\n",
    "  - Reproduction\n",
    "  - Response to environmental changes"
   ]
  },
  {
   "cell_type": "markdown",
   "id": "abb27f25",
   "metadata": {},
   "source": [
    "## Types of Cells\n",
    "\n",
    "There are two main categories of cells, each with distinct characteristics and examples:\n",
    "\n",
    "### 1. Prokaryotic Cells\n",
    "These are simpler, more primitive cells that lack a nucleus and other membrane-bound organelles.\n",
    "\n",
    "Examples include:\n",
    "- Bacteria\n",
    "- Archaea\n",
    "\n",
    "### 2. Eukaryotic Cells\n",
    "These are more complex cells that contain a nucleus and various membrane-bound organelles.\n",
    "\n",
    "Examples include:\n",
    "- Animals\n",
    "- Plants\n",
    "- Fungi\n",
    "- Protists"
   ]
  },
  {
   "cell_type": "code",
   "execution_count": null,
   "id": "a3739d5d",
   "metadata": {},
   "outputs": [],
   "source": [
    "# Create a simple dictionary to organize cell types\n",
    "cell_types = {\n",
    "    'Prokaryotic': ['Bacteria', 'Archaea'],\n",
    "    'Eukaryotic': ['Animals', 'Plants', 'Fungi', 'Protists']\n",
    "}\n",
    "\n",
    "# Print the dictionary in a structured format\n",
    "for cell_type, examples in cell_types.items():\n",
    "    print(f\"\\n{cell_type} Cells:\")\n",
    "    for example in examples:\n",
    "        print(f\"- {example}\")"
   ]
  },
  {
   "cell_type": "markdown",
   "id": "993dc67c",
   "metadata": {},
   "source": [
    "### Summary\n",
    "- Cells are the basic units of life\n",
    "- Prokaryotic cells are simpler and lack a nucleus\n",
    "- Eukaryotic cells are more complex and contain a nucleus\n",
    "- Both types play crucial roles in their respective organisms"
   ]
  }
 ],
 "metadata": {
  "language_info": {
   "name": "python"
  }
 },
 "nbformat": 4,
 "nbformat_minor": 5
}
